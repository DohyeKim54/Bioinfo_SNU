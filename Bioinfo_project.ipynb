{
  "cells": [
    {
      "cell_type": "code",
      "execution_count": 1,
      "metadata": {
        "id": "q82fDgHRjCcZ"
      },
      "outputs": [],
      "source": [
        "!mkdir -p binfo1-project/data\n",
        "# >> 여기까지 리눅스(Ubuntu) shell에서 실행 (느낌표 떼고)\n",
        "# 다운로드 받은 데이터셋을 로컬 binfo1-project 폴더에 직접 업로드\n",
        "\n",
        "%ls -al binfo1-project\n",
        "%cd binfo1-project/data\n",
        "\n",
        "!gunzip hg19_v19_annotation.gtf.gz\n",
        "!gunzip goa_human.gaf.gz\n",
        "!Homo_sapiens.GRCh38.109.gtf.gz\n",
        "\n",
        "!conda install -c bioconda subread\n",
        "\n",
        "!featureCounts -a hg19_v19_annotation.gtf -o read-counts.txt *.bam\n",
        "# >> 여기까지 리눅스(Ubuntu) shell에서 실행"
      ]
    },
    {
      "cell_type": "code",
      "execution_count": null,
      "metadata": {
        "id": "jUvuj4GfRz_4"
      },
      "outputs": [],
      "source": [
        "import pandas as pd\n",
        "import numpy as np\n",
        "from matplotlib import pyplot as plt\n",
        "from scipy import stats\n",
        "\n",
        "cnts = pd.read_csv('read-counts.txt', sep='\\t', comment='#', index_col=0)\n",
        "cnts.head()"
      ]
    },
    {
      "cell_type": "code",
      "execution_count": null,
      "metadata": {
        "id": "Zxsxo58cR8iQ"
      },
      "outputs": [],
      "source": [
        "cnts['clip_enrichment'] = cnts['eCLIP_H_RBFOX2XPT.bam'] / cnts['eCLIP_control_H_RBFOX2XPT.bam']\n",
        "cnts['transcr_change'] = cnts['shRNA_KD_RBFOX2.bam'] / cnts['shRNA_control_RBFOX2.bam']\n",
        "cnts.head(n=20)"
      ]
    },
    {
      "cell_type": "code",
      "execution_count": null,
      "metadata": {
        "id": "idHmDbevTSRu"
      },
      "outputs": [],
      "source": [
        "cnts_excluded = cnts[(cnts['eCLIP_H_RBFOX2XPT.bam'] >= 30) & (cnts['eCLIP_control_H_RBFOX2XPT.bam'] >= 30) & (cnts['shRNA_KD_RBFOX2.bam'] >= 30) & (cnts['shRNA_control_RBFOX2.bam'] >= 30)].copy()\n",
        "cnts_excluded.head(n=20)"
      ]
    },
    {
      "cell_type": "code",
      "execution_count": null,
      "metadata": {
        "id": "4YIrHA7VUX0L"
      },
      "outputs": [],
      "source": [
        "fig, ax = plt.subplots(1, 1, figsize=(5, 5))\n",
        "ax.scatter(np.log2(cnts_excluded['clip_enrichment']), \n",
        "           np.log2(cnts_excluded['transcr_change']), \n",
        "           s=1, c='#000000', alpha=0.15)\n",
        "\n",
        "ax.set_title('Correlation between CLIP enrichment and \\nRNA level upon RBFOX2 knockdown')\n",
        "ax.set_xlabel('RBFOX2 CLIP Enrichment (log$_2$)')\n",
        "ax.set_ylabel('mRNA abundance change upon RBFOX2 knockdown (log$_2$)')\n",
        "\n",
        "r, p = stats.pearsonr(np.log2(cnts_excluded['clip_enrichment']), np.log2(cnts_excluded['transcr_change']))\n",
        "ax.annotate('r = {:.2f}'.format(r), xy=(0.8, 0.05), xycoords='axes fraction')\n",
        "\n",
        "#plt.show()\n",
        "plt.savefig('CLIP_enrichment_and_Transcription.png')\n",
        "\n",
        "# >> 여기까지 binfo1.py file로 만들어서 저장 후 리눅스(Ubuntu) shell에서 실행\n",
        "# 결과파일 - CLIP_enrichment_and_Transcription.png"
      ]
    },
    {
      "cell_type": "code",
      "execution_count": null,
      "metadata": {
        "id": "qzmD0nGYlap_"
      },
      "outputs": [],
      "source": [
        "!sed 's/\\\"//g' Homo_sapiens_GRCh37.gtf | sed \"s/^.*gene_id \\([^;]*\\);.*gene_name \\([^;]*\\).*/\\1\\t\\2/g\" > gene_name.txt\n",
        "# 여기서 정규표현식이 의도대로 작동하지 않아 Sublime text에서 수정함 (UniProt gene ID를 Ensembl gene ID로 바꿔주기 위한 목록)\n",
        "\n",
        "!echo -e \"gene_id\\tGene names\\ttype\" > goa_locate.txt\n",
        "!awk '$5 == \"GO:0005634\" { print $2\"\\t\"$3\"\\tnucleus\" }' goa_human.gaf >> goa_locate.txt # goa_human = UniProt-GOA DB (hg19)\n",
        "!awk '$5 == \"GO:0016021\" { print $2\"\\t\"$3\"\\tintegral membrane\" }' goa_human.gaf >> goa_locate.txt\n",
        "!awk '$5 == \"GO:0005737\" { print $2\"\\t\"$3\"\\tcytoplasm\" }' goa_human.gaf >> goa_locate.txt \n",
        "!awk '{ print $2\"\\t\"$3\"\\tintegral membrane\" }' QuickGO-annotations.gaf >> goa_locate.txt \n",
        "# QuickGO annotations = QuickGO site에서 다운로드 받은 추가 database. Integral membrane(GO:0016021)에 속한 gene 중 no evidence data, automatic assertion 제외함\n",
        "\n",
        "!awk '$5 == \"GO:0031966\" { print $2 }' goa_human.gaf > erase.txt\n",
        "\n",
        "# >> 여기까지 리눅스(Ubuntu) shell에서 실행"
      ]
    },
    {
      "cell_type": "code",
      "execution_count": null,
      "metadata": {
        "id": "EghpEfcaRvCd"
      },
      "outputs": [],
      "source": [
        "import pandas as pd\n",
        "import numpy as np\n",
        "from matplotlib import pyplot as plt\n",
        "from scipy import stats\n",
        "\n",
        "df_local = pd.read_csv('goa_locate.txt', sep='\\t')\n",
        "\n",
        "with open('erase.txt') as f:\n",
        "    for line in f.readlines():\n",
        "      if line in df_local.index.to_list():\n",
        "        df_local.drop(index=line)\n",
        "\n",
        "df_local.to_csv('goa_locate.txt', sep = '\\t')\n",
        "\n",
        "gene_dict={}\n",
        "with open('gene_name.txt') as f:\n",
        "    lines = f.readlines()\n",
        "    for name in lines:\n",
        "      gene_dict[name.split('\\t')[1].strip()] = name.split('\\t')[0].strip()\n",
        "\n",
        "local_dict={}\n",
        "with open('goa_locate.txt') as f:\n",
        "  for line in f.readlines():\n",
        "    gene_name = line.split('\\t')[1]\n",
        "    gene_locus = line.split('\\t')[2]\n",
        "    if gene_name in list(gene_dict.keys()):\n",
        "      local_dict[gene_dict[gene_name]]=gene_locus\n"
      ]
    },
    {
      "cell_type": "code",
      "execution_count": null,
      "metadata": {
        "id": "0TA2Yxb8vZXS"
      },
      "outputs": [],
      "source": [
        "local_list=[]\n",
        "for i, items in enumerate(cnts_excluded.iterrows()):\n",
        "  gene = items[0].split('.')[0]\n",
        "  if gene in local_dict.keys():\n",
        "    local = local_dict[gene]\n",
        "    local_list.append(local)\n",
        "  else:\n",
        "    local_list.append('not_in_list')\n",
        "print(local_list)\n",
        "\n",
        "cnts_excluded['local']=local_list\n",
        "print(cnts_excluded)\n",
        "\n",
        "cnts_localized = cnts_excluded[cnts_excluded.local != 'not_in_list'].copy()\n",
        "print(cnts_localized)"
      ]
    },
    {
      "cell_type": "code",
      "execution_count": null,
      "metadata": {
        "id": "LUiVFACnoz8a"
      },
      "outputs": [],
      "source": [
        "color_dict = {'integral membrane':'#e32b51', 'cytoplasm':'#50b846', 'nucleus':'#546fb6'}\n",
        "\n",
        "fig, ax = plt.subplots(1, 1, figsize=(5, 5))\n",
        "\n",
        "for local in ['integral membrane','cytoplasm','nucleus']:\n",
        "  cnts_plot=cnts_localized[cnts_localized['local']==local]\n",
        "  ax.scatter(np.log2(cnts_plot['clip_enrichment']), \n",
        "            np.log2(cnts_plot['transcr_change']), \n",
        "            s=1, alpha=0.15,\n",
        "            c=color_dict[local], label=local)\n",
        "\n",
        "ax.set_title('Correlation between CLIP enrichment and \\nRNA level upon RBFOX2 knockdown')\n",
        "ax.set_xlabel('RBFOX2 CLIP Enrichment (log$_2$)')\n",
        "ax.set_ylabel('mRNA abundance change upon RBFOX2 knockdown (log$_2$)')\n",
        "\n",
        "r, p = stats.pearsonr(np.log2(cnts_localized['clip_enrichment']), np.log2(cnts_localized['transcr_change']))\n",
        "ax.annotate('r = {:.2f}'.format(r), xy=(0.8, 0.05), xycoords='axes fraction')\n",
        "ax.legend(markerscale=3, loc='lower left', fontsize=6)\n",
        "\n",
        "#plt.show()\n",
        "plt.savefig('CLIP_enrichment_localization.png')\n",
        "\n",
        "# >> 여기까지 binfo2.py file로 만들어서 저장 후 리눅스(Ubuntu) shell에서 실행\n",
        "# 결과파일 - CLIP_enrichment_localization.png \n",
        "# database 추가 전 결과 파일 (integral membrane localization 없음) = CLIP_enrichment_localization_before.png"
      ]
    },
    {
      "cell_type": "code",
      "execution_count": null,
      "metadata": {
        "id": "qjE0fEclqZBN"
      },
      "outputs": [],
      "source": [
        "!conda install -c bioconda -y bedtools bioawk samtools\n",
        "!grep -iP \"PCBP1\\\"\" Homo_sapiens.GRCh37.87.gtf\n",
        "# >> 여기까지 리눅스(Ubuntu) shell에서 실행\n",
        "# 결과 중, exon & transcript의 범위 = chr2:70314585-70316332"
      ]
    },
    {
      "cell_type": "code",
      "execution_count": null,
      "metadata": {
        "id": "3cDRTRCw5yV2"
      },
      "outputs": [],
      "source": [
        "!samtools index eCLIP_H_RBFOX2XPT.bam\n",
        "!samtools view -b -o eCLIP-PCBP1.bam eCLIP_H_RBFOX2XPT.bam chr2:70314585-70316332\n",
        "!samtools view eCLIP-PCBP1.bam | wc -l\n",
        "!samtools mpileup eCLIP-PCBP1.bam > eCLIP-PCBP1.pileup\n",
        "!wc -l eCLIP-PCBP1.pileup\n",
        "\n",
        "!awk '$2 >= 70314585 && $2 <= 70316332 { print $0; }' eCLIP-PCBP1.pileup > eCLIP-PCBP1.pileup\n",
        "!cat eCLIP-PCBP1.pileup\n",
        "# >> 여기까지 리눅스(Ubuntu) shell에서 실행"
      ]
    },
    {
      "cell_type": "code",
      "execution_count": null,
      "metadata": {
        "id": "xkS7dd1a_Hqd"
      },
      "outputs": [],
      "source": [
        "import pandas as pd\n",
        "import re\n",
        "\n",
        "pileup = pd.read_csv('eCLIP-PCBP1.pileup', sep='\\t', names=['chrom', 'pos', '_ref', 'count', 'basereads', 'quals'])\n",
        "pileup.tail()\n",
        "\n",
        "toremove = re.compile('[1-9nN<>\\$\\*#-]|\\^~[A-Za-z]')\n",
        "pileup['matches'] = pileup['basereads'].apply(lambda x: toremove.sub('', x))\n",
        "\n",
        "pd.set_option('display.max_rows',None)\n",
        "pd.set_option('display.max_columns',None)\n",
        "pd.set_option('display.max_colwidth', 1000)\n",
        "pileupdf = pileup[['chrom', 'pos', 'count', 'matches']].copy()\n",
        "\n",
        "print(pileupdf)\n",
        "# >> 여기까지 binfo3.py file로 만들어서 저장 후 리눅스(Ubuntu) shell에서 실행\n",
        "# pileupdf 형태 확인 - 특수문자 제거는 잘 되었으나 대소문자 섞여있고 read number가 낮은 편"
      ]
    },
    {
      "cell_type": "code",
      "execution_count": null,
      "metadata": {
        "id": "F0yM8RYKY1h4"
      },
      "outputs": [],
      "source": [
        "import pandas as pd\n",
        "import numpy as np\n",
        "\n",
        "base_list=['A','G','C','T']\n",
        "for i in range(len(pileupdf)):\n",
        "  matches = pileupdf.iloc[i]['matches']\n",
        "  if not matches or pileupdf.iloc[i].isnull().sum():\n",
        "    print(i, 'no match')\n",
        "    pass\n",
        "  else:\n",
        "    Shannon=0\n",
        "    p_list=[]\n",
        "    for base in base_list:\n",
        "      p_base = matches.upper().count(base)/len(matches)\n",
        "      p_list.append(p_base)\n",
        "      if p_base != 0:\n",
        "        Shannon+=-p_base*np.log2(p_base)\n",
        "    print(i, p_list, Shannon)\n",
        "# >> 여기까지 binfo4.py file로 만들어서 저장 후 리눅스(Ubuntu) shell에서 실행\n",
        "# Shannon entropy 값 확인 - OK"
      ]
    },
    {
      "cell_type": "code",
      "execution_count": null,
      "metadata": {
        "id": "Vx4NmdFwmVJB"
      },
      "outputs": [],
      "source": [
        "import pandas as pd\n",
        "import numpy as np\n",
        "\n",
        "base_list=['A','G','C','T']\n",
        "for i in range(len(pileupdf)):\n",
        "  matches = pileupdf.iloc[i]['matches']\n",
        "  if not matches or pileupdf.iloc[i].isnull().sum():\n",
        "    pass\n",
        "  else:\n",
        "    Shannon=0\n",
        "    p_list=[]\n",
        "    for base in base_list:\n",
        "      p_base = matches.upper().count(base)/len(matches)\n",
        "      p_list.append(p_base)\n",
        "      if p_base != 0:\n",
        "        Shannon+=-p_base*np.log2(p_base)\n",
        "    if Shannon > 0.7:\n",
        "      print(i, p_list, Shannon)\n",
        "# >> 여기까지 binfo5.py file로 만들어서 저장 후 리눅스(Ubuntu) shell에서 실행\n",
        "# Shannon entropy > 0.7인 position 확인 - 24개 locus"
      ]
    },
    {
      "cell_type": "code",
      "execution_count": null,
      "metadata": {
        "id": "Ey7f9-EroD-U"
      },
      "outputs": [],
      "source": [
        "import pandas as pd\n",
        "import numpy as np\n",
        "\n",
        "base_list=['A','G','C','T']\n",
        "for i in range(len(pileupdf)):\n",
        "  matches = pileupdf.iloc[i]['matches']\n",
        "  if not matches or pileupdf.iloc[i].isnull().sum():\n",
        "    pass\n",
        "  else:\n",
        "    Shannon=0\n",
        "    p_list=[]\n",
        "    for base in base_list:\n",
        "      p_base = matches.upper().count(base)/len(matches)\n",
        "      p_list.append(p_base)\n",
        "      if p_base != 0:\n",
        "        Shannon+=-p_base*np.log2(p_base)\n",
        "    if Shannon > 0.7 and len(matches) > 3:\n",
        "      print(i, p_list, Shannon)\n",
        "# >> 여기까지 binfo6.py file로 만들어서 저장 후 리눅스(Ubuntu) shell에서 실행\n",
        "# Shannon entropy > 0.7, read number > 3인 position 확인 - 5개 locus\n",
        "'''\n",
        "68 [0.0, 0.0, 0.75, 0.25] 0.8112781244591328\n",
        "88 [0.2, 0.8, 0.0, 0.0] 0.7219280948873623\n",
        "110 [0.25, 0.0, 0.75, 0.0] 0.8112781244591328\n",
        "715 [0.2, 0.0, 0.0, 0.8] 0.7219280948873623\n",
        "738 [0.4, 0.0, 0.0, 0.6] 0.9709505944546686\n",
        "'''"
      ]
    },
    {
      "cell_type": "code",
      "execution_count": null,
      "metadata": {
        "id": "csC7eDVRmojd"
      },
      "outputs": [],
      "source": [
        "import pandas as pd\n",
        "import numpy as np\n",
        "\n",
        "base_list=['A','G','C','T']\n",
        "for i in range(len(pileupdf)):\n",
        "  matches = pileupdf.iloc[i]['matches']\n",
        "  if not matches or pileupdf.iloc[i].isnull().sum():\n",
        "    print(pileupdf.iloc[i]['chrom'], pileupdf.iloc[i]['pos'], pileupdf.iloc[i]['pos']+1, 0)\n",
        "    pass\n",
        "  else:\n",
        "    Shannon=0\n",
        "    p_list=[]\n",
        "    for base in base_list:\n",
        "      p_base = matches.upper().count(base)/len(matches)\n",
        "      p_list.append(p_base)\n",
        "      if p_base != 0:\n",
        "        Shannon+=-p_base*np.log2(p_base)\n",
        "    print(pileupdf.iloc[i]['chrom'], pileupdf.iloc[i]['pos'], pileupdf.iloc[i]['pos']+1, Shannon)\n",
        "\n",
        "# >> 여기까지 binfo7.py file로 만들어서 저장 후 리눅스(Ubuntu) shell에서 실행\n",
        "# 결과 파일 복사해서 UCSC Genome Browser - hg19 reference에 입력해 비교"
      ]
    }
  ],
  "metadata": {
    "colab": {
      "provenance": []
    },
    "kernelspec": {
      "display_name": "Python 3",
      "name": "python3"
    },
    "language_info": {
      "name": "python"
    }
  },
  "nbformat": 4,
  "nbformat_minor": 0
}
